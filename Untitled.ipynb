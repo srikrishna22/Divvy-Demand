{
 "cells": [
  {
   "cell_type": "code",
   "execution_count": 1,
   "metadata": {},
   "outputs": [],
   "source": [
    "import pandas as pd"
   ]
  },
  {
   "cell_type": "code",
   "execution_count": 2,
   "metadata": {},
   "outputs": [
    {
     "name": "stdout",
     "output_type": "stream",
     "text": [
      "/Users/krishna/Desktop/MetisProjects/Divvy-Demand\r\n"
     ]
    }
   ],
   "source": [
    "!pwd"
   ]
  },
  {
   "cell_type": "code",
   "execution_count": 3,
   "metadata": {},
   "outputs": [],
   "source": [
    "df = pd.read_csv('./data/weather_ridership.csv')"
   ]
  },
  {
   "cell_type": "code",
   "execution_count": 7,
   "metadata": {},
   "outputs": [
    {
     "data": {
      "text/plain": [
       "Index(['Unnamed: 0', 'Time', 'Temperature', 'Dew Point', 'Humidity',\n",
       "       'Wind Speed', 'Wind Gust', 'Pressure', 'Precip.', 'Precip Accum',\n",
       "       'riders', 'wind_direction_E', 'wind_direction_ENE',\n",
       "       'wind_direction_ESE', 'wind_direction_N', 'wind_direction_NE',\n",
       "       'wind_direction_NNE', 'wind_direction_NNW', 'wind_direction_NW',\n",
       "       'wind_direction_S', 'wind_direction_SE', 'wind_direction_SSE',\n",
       "       'wind_direction_SSW', 'wind_direction_SW', 'wind_direction_VAR',\n",
       "       'wind_direction_W', 'wind_direction_WNW', 'wind_direction_WSW',\n",
       "       'mood_Cloudy / Windy', 'mood_Fair', 'mood_Fair / Windy', 'mood_Fog',\n",
       "       'mood_Haze', 'mood_Heavy Rain', 'mood_Heavy Rain / Windy',\n",
       "       'mood_Heavy T-Storm', 'mood_Heavy T-Storm / Windy',\n",
       "       'mood_Light Drizzle', 'mood_Light Drizzle / Windy', 'mood_Light Rain',\n",
       "       'mood_Light Rain / Windy', 'mood_Light Rain with Thunder',\n",
       "       'mood_Light Snow', 'mood_Light Snow / Windy', 'mood_Mostly Cloudy',\n",
       "       'mood_Mostly Cloudy / Windy', 'mood_Partly Cloudy',\n",
       "       'mood_Partly Cloudy / Windy', 'mood_Rain', 'mood_Rain / Windy',\n",
       "       'mood_T-Storm', 'mood_T-Storm / Windy', 'mood_Thunder',\n",
       "       'mood_Thunder / Windy', 'mood_Thunder in the Vicinity',\n",
       "       'mood_Wintry Mix', 'mood_Wintry Mix / Windy'],\n",
       "      dtype='object')"
      ]
     },
     "execution_count": 7,
     "metadata": {},
     "output_type": "execute_result"
    }
   ],
   "source": [
    "df.columns"
   ]
  },
  {
   "cell_type": "code",
   "execution_count": 16,
   "metadata": {},
   "outputs": [],
   "source": [
    "df = df[[c for c in df if c not in ['riders', 'Unnamed: 0']] + ['riders']]"
   ]
  },
  {
   "cell_type": "code",
   "execution_count": 19,
   "metadata": {},
   "outputs": [
    {
     "data": {
      "text/plain": [
       "Index(['Time', 'Temperature', 'Dew Point', 'Humidity', 'Wind Speed',\n",
       "       'Wind Gust', 'Pressure', 'Precip.', 'Precip Accum', 'wind_direction_E',\n",
       "       'wind_direction_ENE', 'wind_direction_ESE', 'wind_direction_N',\n",
       "       'wind_direction_NE', 'wind_direction_NNE', 'wind_direction_NNW',\n",
       "       'wind_direction_NW', 'wind_direction_S', 'wind_direction_SE',\n",
       "       'wind_direction_SSE', 'wind_direction_SSW', 'wind_direction_SW',\n",
       "       'wind_direction_VAR', 'wind_direction_W', 'wind_direction_WNW',\n",
       "       'wind_direction_WSW', 'mood_Cloudy / Windy', 'mood_Fair',\n",
       "       'mood_Fair / Windy', 'mood_Fog', 'mood_Haze', 'mood_Heavy Rain',\n",
       "       'mood_Heavy Rain / Windy', 'mood_Heavy T-Storm',\n",
       "       'mood_Heavy T-Storm / Windy', 'mood_Light Drizzle',\n",
       "       'mood_Light Drizzle / Windy', 'mood_Light Rain',\n",
       "       'mood_Light Rain / Windy', 'mood_Light Rain with Thunder',\n",
       "       'mood_Light Snow', 'mood_Light Snow / Windy', 'mood_Mostly Cloudy',\n",
       "       'mood_Mostly Cloudy / Windy', 'mood_Partly Cloudy',\n",
       "       'mood_Partly Cloudy / Windy', 'mood_Rain', 'mood_Rain / Windy',\n",
       "       'mood_T-Storm', 'mood_T-Storm / Windy', 'mood_Thunder',\n",
       "       'mood_Thunder / Windy', 'mood_Thunder in the Vicinity',\n",
       "       'mood_Wintry Mix', 'mood_Wintry Mix / Windy', 'riders'],\n",
       "      dtype='object')"
      ]
     },
     "execution_count": 19,
     "metadata": {},
     "output_type": "execute_result"
    }
   ],
   "source": [
    "df.columns"
   ]
  },
  {
   "cell_type": "code",
   "execution_count": null,
   "metadata": {},
   "outputs": [],
   "source": []
  }
 ],
 "metadata": {
  "kernelspec": {
   "display_name": "Python 3",
   "language": "python",
   "name": "python3"
  },
  "language_info": {
   "codemirror_mode": {
    "name": "ipython",
    "version": 3
   },
   "file_extension": ".py",
   "mimetype": "text/x-python",
   "name": "python",
   "nbconvert_exporter": "python",
   "pygments_lexer": "ipython3",
   "version": "3.6.6"
  }
 },
 "nbformat": 4,
 "nbformat_minor": 2
}
