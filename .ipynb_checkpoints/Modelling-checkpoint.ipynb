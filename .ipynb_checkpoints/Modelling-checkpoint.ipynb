{
 "cells": [
  {
   "cell_type": "code",
   "execution_count": null,
   "metadata": {},
   "outputs": [],
   "source": [
    "import numpy as np\n",
    "import pandas as pd\n",
    "\n",
    "\n",
    "import seaborn as sns\n",
    "from sklearn.model_selection import train_test_split\n",
    "from sklearn.preprocessing import StandardScaler, PolynomialFeatures\n",
    "from sklearn.linear_model import LinearRegression, RidgeCV, Lasso, LassoCV, Ridge\n",
    "from sklearn.metrics import mean_squared_error\n",
    "from sklearn.model_selection import cross_val_score, GridSearchCV\n",
    "import matplotlib.pyplot as plt\n",
    "import statsmodels.api as sm"
   ]
  },
  {
   "cell_type": "code",
   "execution_count": null,
   "metadata": {},
   "outputs": [],
   "source": [
    "data = pd.read_csv('./Desktop/final_final_df')\n",
    "data.drop('Unnamed: 0', axis=1, inplace=True)\n",
    "data.Time = pd.to_datetime(data.Time)\n",
    "data.dropna(inplace=True)\n",
    "data.drop('Time', axis=1, inplace=True) #must drop time column\n",
    "\n",
    "data.shape\n",
    "y = data['riders']\n",
    "pass_into_sm = data.drop('riders', axis=1)"
   ]
  },
  {
   "cell_type": "code",
   "execution_count": null,
   "metadata": {},
   "outputs": [],
   "source": [
    "#heatmap of correlations\n",
    "fig, ax = plt.subplots(figsize=(16,14))\n",
    "sns.heatmap(data_copy.corr(), cmap=\"viridis\", ax=ax)"
   ]
  },
  {
   "cell_type": "code",
   "execution_count": null,
   "metadata": {},
   "outputs": [],
   "source": [
    "len(pass_into_sm.columns)\n",
    "\n",
    "mod = sm.OLS(y, pass_into_sm)\n",
    "res = mod.fit()\n",
    "mask = res.pvalues < 0.05\n",
    "temp = mask.astype(int)\n",
    "mycols = list(temp[temp==1].index)\n",
    "pass_into_sm = pass_into_sm.loc[:, mycols]\n",
    "X = pass_into_sm\n",
    "\n",
    "\n",
    "X.shape"
   ]
  },
  {
   "cell_type": "code",
   "execution_count": null,
   "metadata": {},
   "outputs": [],
   "source": [
    "X_train, X_test, y_train, y_test = train_test_split(X, y, test_size = .2, random_state=20)\n",
    "\n",
    "print(X_train.shape)\n",
    "print(X_test.shape)"
   ]
  },
  {
   "cell_type": "code",
   "execution_count": null,
   "metadata": {},
   "outputs": [],
   "source": [
    "#first pass linear regression all features\n",
    "\n",
    "reg = LinearRegression()\n",
    "\n",
    "#training data \n",
    "cv_scores_r2 = cross_val_score(reg, X_train, y_train, cv=10, scoring='r2')\n",
    "cv_scores_rmse = cross_val_score(reg, X_train, y_train, cv=10, scoring='neg_mean_squared_error')\n",
    "\n",
    "print('R^2 for Linear Regression on training data: ', np.mean(cv_scores_r2))\n",
    "print('RMSE for Linear Regression on training data: ', np.sqrt(np.mean(-cv_scores_rmse)))\n",
    "\n",
    "\n",
    "#testing data\n",
    "reg.fit(X_train, y_train)\n",
    "y_pred = reg.predict(X_test)\n",
    "print('R^2 for Linear Regression on testing data: ', reg.score(X_test, y_test))\n",
    "print('RMSE for Linear Regression on testing data: ', np.sqrt(mean_squared_error(y_test, y_pred)))\n",
    "\n",
    "\n",
    "#cross validation with Linear Regression\n",
    "#cv_scores = cross_val_score(reg, X_train, y_train, cv=10, scoring='neg_mean_squared_error')\n",
    "#print('RMSE for Linear Regression on training data: ', np.sqrt(np.mean(-cv_scores)))\n",
    "#cv_scores_test = cross_val_score\n",
    "\n",
    "print(reg.coef_)\n",
    "print(X_train.columns)\n",
    "np.mean(y_test) #base line"
   ]
  },
  {
   "cell_type": "code",
   "execution_count": null,
   "metadata": {},
   "outputs": [],
   "source": [
    "#getting list of columns and coefs\n",
    "reg = LinearRegression()\n",
    "reg.fit(X, y)\n",
    "print(list(zip(X.columns, reg.coef_)))"
   ]
  },
  {
   "cell_type": "code",
   "execution_count": null,
   "metadata": {},
   "outputs": [],
   "source": [
    "#polynomial features, am I underfitting?\n",
    "\n",
    "X_poly = PolynomialFeatures(degree=2)\n",
    "X_poly = X_poly.fit_transform(X)\n",
    "\n",
    "X_train, X_test, y_train, y_test = train_test_split(X_poly, y, test_size=.2, random_state=402)\n",
    "\n",
    "\n",
    "cv_scores = cross_val_score(reg, X_train, y_train, cv=10, scoring='r2')\n",
    "print('R^2 for Polynomial Regression on training data: ', np.mean(cv_scores))\n",
    "\n",
    "\n",
    "reg = LinearRegression().fit(X_train, y_train)\n",
    "y_pred = reg.predict(X_test)\n",
    "print('R^2 for Polynomial regression on testting data: ', reg.score(X_test, y_test))\n",
    "\n",
    "#y_pred = reg.predict(X_test)\n"
   ]
  },
  {
   "cell_type": "code",
   "execution_count": null,
   "metadata": {},
   "outputs": [],
   "source": [
    "X_poly.get_feature_names(pass_into_sm.columns)"
   ]
  },
  {
   "cell_type": "code",
   "execution_count": null,
   "metadata": {},
   "outputs": [],
   "source": [
    "#overfitting so use Lasso\n",
    "\n",
    "reg = Lasso()\n",
    "\n",
    "cv_scores_r2 = cross_val_score(reg, X_train, y_train, cv=10, scoring='r2')\n",
    "cv_scores_rmse = cross_val_score(reg, X_train, y_train, cv=10, scoring='neg_mean_squared_error')\n",
    "\n",
    "print('R^2 for Lasso Regression on training data: ', np.mean(cv_scores_r2))\n",
    "print('RMSE for Lasso Regression on training data: ', np.sqrt(np.mean(-cv_scores_rmse)))\n",
    "\n",
    "\n",
    "reg.fit(X_train, y_train)\n",
    "y_pred = reg.predict(X_test)\n",
    "\n",
    "print('R^2 for Lasso Regression on testing data: ', reg.score(X_test, y_test))\n",
    "print('RMSE for Lasso Regression on testing data: ', np.sqrt(mean_squared_error(y_test, y_pred)))\n",
    "\n",
    "\n",
    "print(reg.coef_)\n",
    "\n",
    "\n",
    "\n",
    "\n",
    "#parameters = {'alpha': [1e-5, 1e-3, 1e-1, 1], 'fit_intercept': [True,False]}\n",
    "\n",
    "#reg = GridSearchCV(model,parameters, cv=10, scoring='r2', n_jobs=1)\n",
    "\n",
    "\n",
    "#print(model.score(X_test, y_test))\n",
    "\n",
    "#print(reg.best_params_)\n",
    "#print(reg.best_score_)\n",
    "\n",
    "#print(reg.score(X_test, y_test))\n",
    "\n",
    "#model.coef_\n"
   ]
  }
 ],
 "metadata": {
  "kernelspec": {
   "display_name": "Python 3",
   "language": "python",
   "name": "python3"
  },
  "language_info": {
   "codemirror_mode": {
    "name": "ipython",
    "version": 3
   },
   "file_extension": ".py",
   "mimetype": "text/x-python",
   "name": "python",
   "nbconvert_exporter": "python",
   "pygments_lexer": "ipython3",
   "version": "3.6.6"
  }
 },
 "nbformat": 4,
 "nbformat_minor": 2
}
